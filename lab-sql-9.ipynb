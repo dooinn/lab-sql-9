{
 "cells": [
  {
   "cell_type": "markdown",
   "metadata": {},
   "source": [
    "## Instructions\n",
    "In this lab we will find the customers who were active in consecutive months of May and June. Follow the steps to complete the analysis.\n",
    "\n",
    "1. Create a table rentals_may to store the data from rental table with information for the month of May.\n",
    "\n",
    "2. Insert values in the table rentals_may using the table rental, filtering values only for the month of May.\n",
    "\n",
    "3. Create a table rentals_june to store the data from rental table with information for the month of June.\n",
    "\n",
    "4. Insert values in the table rentals_june using the table rental, filtering values only for the month of June.\n",
    "\n",
    "5. Check the number of rentals for each customer for May.\n",
    "\n",
    "6. Check the number of rentals for each customer for June.\n",
    "\n",
    "7. Create a Python connection with SQL database and retrieve the results of the last two queries (also mentioned below) as dataframes:\n",
    "\n",
    "8. Check the number of rentals for each customer for May\n",
    "\n",
    "9. Check the number of rentals for each customer for June\n",
    "\n",
    "Hint: You can store the results from the two queries in two separate dataframes.\n",
    "\n",
    "10. Write a function that checks if customer borrowed more or less films in the month of June as compared to May.\n",
    "\n",
    "Hint: For this part, you can create a join between the two dataframes created before, using the merge function available for pandas dataframes. Here is a link to the documentation for the merge function."
   ]
  },
  {
   "cell_type": "code",
   "execution_count": 81,
   "metadata": {},
   "outputs": [
    {
     "name": "stdout",
     "output_type": "stream",
     "text": [
      "········\n"
     ]
    }
   ],
   "source": [
    "import pymysql\n",
    "from sqlalchemy import create_engine\n",
    "import pandas as pd\n",
    "import getpass  # to get the password without showing the input\n",
    "password = getpass.getpass()\n",
    "\n",
    "connection_string = 'mysql+pymysql://root:' + password + '@127.0.0.1/sakila'\n",
    "engine = create_engine(connection_string)"
   ]
  },
  {
   "cell_type": "code",
   "execution_count": 82,
   "metadata": {},
   "outputs": [
    {
     "data": {
      "text/html": [
       "<div>\n",
       "<style scoped>\n",
       "    .dataframe tbody tr th:only-of-type {\n",
       "        vertical-align: middle;\n",
       "    }\n",
       "\n",
       "    .dataframe tbody tr th {\n",
       "        vertical-align: top;\n",
       "    }\n",
       "\n",
       "    .dataframe thead th {\n",
       "        text-align: right;\n",
       "    }\n",
       "</style>\n",
       "<table border=\"1\" class=\"dataframe\">\n",
       "  <thead>\n",
       "    <tr style=\"text-align: right;\">\n",
       "      <th></th>\n",
       "      <th>rental_id</th>\n",
       "      <th>rental_date</th>\n",
       "      <th>inventory_id</th>\n",
       "      <th>customer_id</th>\n",
       "      <th>return_date</th>\n",
       "      <th>staff_id</th>\n",
       "      <th>last_update</th>\n",
       "    </tr>\n",
       "  </thead>\n",
       "  <tbody>\n",
       "    <tr>\n",
       "      <td>0</td>\n",
       "      <td>1</td>\n",
       "      <td>2005-05-24 22:53:30</td>\n",
       "      <td>367</td>\n",
       "      <td>130</td>\n",
       "      <td>2005-05-26 22:04:30</td>\n",
       "      <td>1</td>\n",
       "      <td>2006-02-15 21:30:53</td>\n",
       "    </tr>\n",
       "    <tr>\n",
       "      <td>1</td>\n",
       "      <td>2</td>\n",
       "      <td>2005-05-24 22:54:33</td>\n",
       "      <td>1525</td>\n",
       "      <td>459</td>\n",
       "      <td>2005-05-28 19:40:33</td>\n",
       "      <td>1</td>\n",
       "      <td>2006-02-15 21:30:53</td>\n",
       "    </tr>\n",
       "    <tr>\n",
       "      <td>2</td>\n",
       "      <td>3</td>\n",
       "      <td>2005-05-24 23:03:39</td>\n",
       "      <td>1711</td>\n",
       "      <td>408</td>\n",
       "      <td>2005-06-01 22:12:39</td>\n",
       "      <td>1</td>\n",
       "      <td>2006-02-15 21:30:53</td>\n",
       "    </tr>\n",
       "    <tr>\n",
       "      <td>3</td>\n",
       "      <td>4</td>\n",
       "      <td>2005-05-24 23:04:41</td>\n",
       "      <td>2452</td>\n",
       "      <td>333</td>\n",
       "      <td>2005-06-03 01:43:41</td>\n",
       "      <td>2</td>\n",
       "      <td>2006-02-15 21:30:53</td>\n",
       "    </tr>\n",
       "    <tr>\n",
       "      <td>4</td>\n",
       "      <td>5</td>\n",
       "      <td>2005-05-24 23:05:21</td>\n",
       "      <td>2079</td>\n",
       "      <td>222</td>\n",
       "      <td>2005-06-02 04:33:21</td>\n",
       "      <td>1</td>\n",
       "      <td>2006-02-15 21:30:53</td>\n",
       "    </tr>\n",
       "    <tr>\n",
       "      <td>...</td>\n",
       "      <td>...</td>\n",
       "      <td>...</td>\n",
       "      <td>...</td>\n",
       "      <td>...</td>\n",
       "      <td>...</td>\n",
       "      <td>...</td>\n",
       "      <td>...</td>\n",
       "    </tr>\n",
       "    <tr>\n",
       "      <td>16039</td>\n",
       "      <td>16045</td>\n",
       "      <td>2005-08-23 22:25:26</td>\n",
       "      <td>772</td>\n",
       "      <td>14</td>\n",
       "      <td>2005-08-25 23:54:26</td>\n",
       "      <td>1</td>\n",
       "      <td>2006-02-15 21:30:53</td>\n",
       "    </tr>\n",
       "    <tr>\n",
       "      <td>16040</td>\n",
       "      <td>16046</td>\n",
       "      <td>2005-08-23 22:26:47</td>\n",
       "      <td>4364</td>\n",
       "      <td>74</td>\n",
       "      <td>2005-08-27 18:02:47</td>\n",
       "      <td>2</td>\n",
       "      <td>2006-02-15 21:30:53</td>\n",
       "    </tr>\n",
       "    <tr>\n",
       "      <td>16041</td>\n",
       "      <td>16047</td>\n",
       "      <td>2005-08-23 22:42:48</td>\n",
       "      <td>2088</td>\n",
       "      <td>114</td>\n",
       "      <td>2005-08-25 02:48:48</td>\n",
       "      <td>2</td>\n",
       "      <td>2006-02-15 21:30:53</td>\n",
       "    </tr>\n",
       "    <tr>\n",
       "      <td>16042</td>\n",
       "      <td>16048</td>\n",
       "      <td>2005-08-23 22:43:07</td>\n",
       "      <td>2019</td>\n",
       "      <td>103</td>\n",
       "      <td>2005-08-31 21:33:07</td>\n",
       "      <td>1</td>\n",
       "      <td>2006-02-15 21:30:53</td>\n",
       "    </tr>\n",
       "    <tr>\n",
       "      <td>16043</td>\n",
       "      <td>16049</td>\n",
       "      <td>2005-08-23 22:50:12</td>\n",
       "      <td>2666</td>\n",
       "      <td>393</td>\n",
       "      <td>2005-08-30 01:01:12</td>\n",
       "      <td>2</td>\n",
       "      <td>2006-02-15 21:30:53</td>\n",
       "    </tr>\n",
       "  </tbody>\n",
       "</table>\n",
       "<p>16044 rows × 7 columns</p>\n",
       "</div>"
      ],
      "text/plain": [
       "       rental_id         rental_date  inventory_id  customer_id  \\\n",
       "0              1 2005-05-24 22:53:30           367          130   \n",
       "1              2 2005-05-24 22:54:33          1525          459   \n",
       "2              3 2005-05-24 23:03:39          1711          408   \n",
       "3              4 2005-05-24 23:04:41          2452          333   \n",
       "4              5 2005-05-24 23:05:21          2079          222   \n",
       "...          ...                 ...           ...          ...   \n",
       "16039      16045 2005-08-23 22:25:26           772           14   \n",
       "16040      16046 2005-08-23 22:26:47          4364           74   \n",
       "16041      16047 2005-08-23 22:42:48          2088          114   \n",
       "16042      16048 2005-08-23 22:43:07          2019          103   \n",
       "16043      16049 2005-08-23 22:50:12          2666          393   \n",
       "\n",
       "              return_date  staff_id         last_update  \n",
       "0     2005-05-26 22:04:30         1 2006-02-15 21:30:53  \n",
       "1     2005-05-28 19:40:33         1 2006-02-15 21:30:53  \n",
       "2     2005-06-01 22:12:39         1 2006-02-15 21:30:53  \n",
       "3     2005-06-03 01:43:41         2 2006-02-15 21:30:53  \n",
       "4     2005-06-02 04:33:21         1 2006-02-15 21:30:53  \n",
       "...                   ...       ...                 ...  \n",
       "16039 2005-08-25 23:54:26         1 2006-02-15 21:30:53  \n",
       "16040 2005-08-27 18:02:47         2 2006-02-15 21:30:53  \n",
       "16041 2005-08-25 02:48:48         2 2006-02-15 21:30:53  \n",
       "16042 2005-08-31 21:33:07         1 2006-02-15 21:30:53  \n",
       "16043 2005-08-30 01:01:12         2 2006-02-15 21:30:53  \n",
       "\n",
       "[16044 rows x 7 columns]"
      ]
     },
     "execution_count": 82,
     "metadata": {},
     "output_type": "execute_result"
    }
   ],
   "source": [
    "# Getting the data:\n",
    "query = '''SELECT * FROM rental;'''\n",
    "\n",
    "df = pd.read_sql_query(query, engine)\n",
    "df"
   ]
  },
  {
   "cell_type": "code",
   "execution_count": 83,
   "metadata": {},
   "outputs": [],
   "source": [
    "df['rental_date'] = pd.to_datetime(df['rental_date'])"
   ]
  },
  {
   "cell_type": "markdown",
   "metadata": {},
   "source": [
    "\n",
    "1. Create a table rentals_may to store the data from rental table with information for the month of May.\n",
    "\n",
    "2. Insert values in the table rentals_may using the table rental, filtering values only for the month of May.\n",
    "\n",
    "3. Create a table rentals_june to store the data from rental table with information for the month of June.\n",
    "\n",
    "4. Insert values in the table rentals_june using the table rental, filtering values only for the month of June.\n"
   ]
  },
  {
   "cell_type": "code",
   "execution_count": 84,
   "metadata": {},
   "outputs": [],
   "source": [
    "df['rental_month'] = df['rental_date'].dt.month\n",
    "rentals_may = df[df['rental_month'] == 5]\n",
    "rentals_june = df[df['rental_month'] == 6]"
   ]
  },
  {
   "cell_type": "markdown",
   "metadata": {},
   "source": [
    "8. Check the number of rentals for each customer for May\n",
    "\n",
    "9. Check the number of rentals for each customer for June"
   ]
  },
  {
   "cell_type": "code",
   "execution_count": 85,
   "metadata": {},
   "outputs": [
    {
     "name": "stdout",
     "output_type": "stream",
     "text": [
      "Total Rentals May:  1156\n",
      "Total Rentals June:  2311\n"
     ]
    }
   ],
   "source": [
    "print('Total Rentals May: ',rentals_may.count().rental_id)\n",
    "print('Total Rentals June: ',rentals_june.count().rental_id)\n",
    "\n"
   ]
  },
  {
   "cell_type": "markdown",
   "metadata": {},
   "source": [
    "10. Write a function that checks if customer borrowed more or less films in the month of June as compared to May."
   ]
  },
  {
   "cell_type": "code",
   "execution_count": 86,
   "metadata": {},
   "outputs": [],
   "source": [
    "rentals_may_june = df[(df['rental_month'] == 5) | (df['rental_month'] == 6)]"
   ]
  },
  {
   "cell_type": "code",
   "execution_count": 87,
   "metadata": {},
   "outputs": [
    {
     "data": {
      "text/html": [
       "<div>\n",
       "<style scoped>\n",
       "    .dataframe tbody tr th:only-of-type {\n",
       "        vertical-align: middle;\n",
       "    }\n",
       "\n",
       "    .dataframe tbody tr th {\n",
       "        vertical-align: top;\n",
       "    }\n",
       "\n",
       "    .dataframe thead th {\n",
       "        text-align: right;\n",
       "    }\n",
       "</style>\n",
       "<table border=\"1\" class=\"dataframe\">\n",
       "  <thead>\n",
       "    <tr style=\"text-align: right;\">\n",
       "      <th></th>\n",
       "      <th>rental_month</th>\n",
       "      <th>count</th>\n",
       "    </tr>\n",
       "  </thead>\n",
       "  <tbody>\n",
       "    <tr>\n",
       "      <td>0</td>\n",
       "      <td>5</td>\n",
       "      <td>1156</td>\n",
       "    </tr>\n",
       "    <tr>\n",
       "      <td>1</td>\n",
       "      <td>6</td>\n",
       "      <td>2311</td>\n",
       "    </tr>\n",
       "  </tbody>\n",
       "</table>\n",
       "</div>"
      ],
      "text/plain": [
       "   rental_month  count\n",
       "0             5   1156\n",
       "1             6   2311"
      ]
     },
     "execution_count": 87,
     "metadata": {},
     "output_type": "execute_result"
    }
   ],
   "source": [
    "rentals_may_june.groupby('rental_month')['rental_id'].count().reset_index().rename(columns={'rental_id':'count'})"
   ]
  },
  {
   "cell_type": "code",
   "execution_count": 88,
   "metadata": {},
   "outputs": [
    {
     "name": "stdout",
     "output_type": "stream",
     "text": [
      "Customer_id: 40\n",
      "May Total: 1\n",
      "June Total: 4\n",
      "3 more films rented in June\n"
     ]
    }
   ],
   "source": [
    "def rentals_check(customer_id):\n",
    "    personal_df = rentals_may_june[rentals_may_june['customer_id'] == customer_id]\n",
    "    personal_df_count = personal_df.groupby('rental_month')['customer_id'].count().reset_index().rename(columns={'customer_id':'count'})\n",
    "    may_rental = personal_df_count[personal_df_count['rental_month'] == 5]['count'].sum()\n",
    "    june_rental = personal_df_count[personal_df_count['rental_month'] == 6]['count'].sum()\n",
    "    print(\"Customer_id:\", customer_id)\n",
    "    print(\"May Total:\", may_rental)\n",
    "    print(\"June Total:\", june_rental)\n",
    "    if may_rental > june_rental:\n",
    "        print((may_rental-june_rental),\"more films rented in May\")\n",
    "    elif may_rental < june_rental:\n",
    "        print((june_rental-may_rental),\"more films rented in June\")\n",
    "    else:\n",
    "        print(\"Equal number of films rented in May and June\")\n",
    "\n",
    "    \n",
    "\n",
    "# intpu customer_id\n",
    "rentals_check(40)\n"
   ]
  },
  {
   "cell_type": "markdown",
   "metadata": {},
   "source": []
  }
 ],
 "metadata": {
  "kernelspec": {
   "display_name": "Python 3",
   "language": "python",
   "name": "python3"
  },
  "language_info": {
   "codemirror_mode": {
    "name": "ipython",
    "version": 3
   },
   "file_extension": ".py",
   "mimetype": "text/x-python",
   "name": "python",
   "nbconvert_exporter": "python",
   "pygments_lexer": "ipython3",
   "version": "3.7.4"
  }
 },
 "nbformat": 4,
 "nbformat_minor": 2
}
